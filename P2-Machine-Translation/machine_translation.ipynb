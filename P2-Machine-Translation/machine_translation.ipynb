{
 "cells": [
  {
   "cell_type": "markdown",
   "metadata": {
    "collapsed": true
   },
   "source": [
    "# Artificial Intelligence Nanodegree\n",
    "## Machine Translation Project\n",
    "In this notebook, sections that end with **'(IMPLEMENTATION)'** in the header indicate that the following blocks of code will require additional functionality which you must provide. Please be sure to read the instructions carefully!\n",
    "\n",
    "## Introduction\n",
    "In this notebook, you will build a deep neural network that functions as part of an end-to-end machine translation pipeline. Your completed pipeline will accept English text as input and return the French translation.\n",
    "\n",
    "- **Preprocess** - You'll convert text to sequence of integers.\n",
    "- **Models** Create models which accepts a sequence of integers as input and returns a probability distribution over possible translations. After learning about the basic types of neural networks that are often used for machine translation, you will engage in your own investigations, to design your own model!\n",
    "- **Prediction** Run the model on English text."
   ]
  },
  {
   "cell_type": "code",
   "execution_count": 1,
   "metadata": {},
   "outputs": [],
   "source": [
    "%load_ext autoreload\n",
    "%aimport helper, tests\n",
    "%autoreload 1"
   ]
  },
  {
   "cell_type": "code",
   "execution_count": 20,
   "metadata": {},
   "outputs": [],
   "source": [
    "import collections\n",
    "\n",
    "import helper\n",
    "import numpy as np\n",
    "import project_tests as tests\n",
    "\n",
    "from keras.preprocessing.text import Tokenizer\n",
    "from keras.preprocessing.sequence import pad_sequences\n",
    "from keras.models import Model\n",
    "from keras.layers import LSTM, GRU, Input, Dense, TimeDistributed, Activation, RepeatVector, Bidirectional\n",
    "from keras.layers.embeddings import Embedding\n",
    "from keras.optimizers import Adam\n",
    "from keras.losses import sparse_categorical_crossentropy"
   ]
  },
  {
   "cell_type": "markdown",
   "metadata": {},
   "source": [
    "### Verify access to the GPU\n",
    "The following test applies only if you expect to be using a GPU, e.g., while running in a Udacity Workspace or using an AWS instance with GPU support. Run the next cell, and verify that the device_type is \"GPU\".\n",
    "- If the device is not GPU & you are running from a Udacity Workspace, then save your workspace with the icon at the top, then click \"enable\" at the bottom of the workspace.\n",
    "- If the device is not GPU & you are running from an AWS instance, then refer to the cloud computing instructions in the classroom to verify your setup steps."
   ]
  },
  {
   "cell_type": "code",
   "execution_count": 3,
   "metadata": {},
   "outputs": [
    {
     "name": "stdout",
     "output_type": "stream",
     "text": [
      "[name: \"/cpu:0\"\n",
      "device_type: \"CPU\"\n",
      "memory_limit: 268435456\n",
      "locality {\n",
      "}\n",
      "incarnation: 11084938021267675\n",
      ", name: \"/gpu:0\"\n",
      "device_type: \"GPU\"\n",
      "memory_limit: 357302272\n",
      "locality {\n",
      "  bus_id: 1\n",
      "}\n",
      "incarnation: 16978710269432000212\n",
      "physical_device_desc: \"device: 0, name: Tesla K80, pci bus id: 0000:00:04.0\"\n",
      "]\n"
     ]
    }
   ],
   "source": [
    "from tensorflow.python.client import device_lib\n",
    "print(device_lib.list_local_devices())"
   ]
  },
  {
   "cell_type": "markdown",
   "metadata": {},
   "source": [
    "## Dataset\n",
    "We begin by investigating the dataset that will be used to train and evaluate your pipeline.  The most common datasets used for machine translation are from [WMT](http://www.statmt.org/).  However, that will take a long time to train a neural network on.  We'll be using a dataset we created for this project that contains a small vocabulary.  You'll be able to train your model in a reasonable time with this dataset.\n",
    "### Load Data\n",
    "The data is located in `data/small_vocab_en` and `data/small_vocab_fr`. The `small_vocab_en` file contains English sentences with their French translations in the `small_vocab_fr` file. Load the English and French data from these files from running the cell below."
   ]
  },
  {
   "cell_type": "code",
   "execution_count": 4,
   "metadata": {},
   "outputs": [
    {
     "name": "stdout",
     "output_type": "stream",
     "text": [
      "Dataset Loaded\n"
     ]
    }
   ],
   "source": [
    "# Load English data\n",
    "english_sentences = helper.load_data('data/small_vocab_en')\n",
    "# Load French data\n",
    "french_sentences = helper.load_data('data/small_vocab_fr')\n",
    "\n",
    "print('Dataset Loaded')"
   ]
  },
  {
   "cell_type": "markdown",
   "metadata": {},
   "source": [
    "### Files\n",
    "Each line in `small_vocab_en` contains an English sentence with the respective translation in each line of `small_vocab_fr`.  View the first two lines from each file."
   ]
  },
  {
   "cell_type": "code",
   "execution_count": 5,
   "metadata": {},
   "outputs": [
    {
     "name": "stdout",
     "output_type": "stream",
     "text": [
      "small_vocab_en Line 1:  new jersey is sometimes quiet during autumn , and it is snowy in april .\n",
      "small_vocab_fr Line 1:  new jersey est parfois calme pendant l' automne , et il est neigeux en avril .\n",
      "small_vocab_en Line 2:  the united states is usually chilly during july , and it is usually freezing in november .\n",
      "small_vocab_fr Line 2:  les états-unis est généralement froid en juillet , et il gèle habituellement en novembre .\n"
     ]
    }
   ],
   "source": [
    "for sample_i in range(2):\n",
    "    print('small_vocab_en Line {}:  {}'.format(sample_i + 1, english_sentences[sample_i]))\n",
    "    print('small_vocab_fr Line {}:  {}'.format(sample_i + 1, french_sentences[sample_i]))"
   ]
  },
  {
   "cell_type": "markdown",
   "metadata": {},
   "source": [
    "From looking at the sentences, you can see they have been preprocessed already.  The puncuations have been delimited using spaces. All the text have been converted to lowercase.  This should save you some time, but the text requires more preprocessing.\n",
    "### Vocabulary\n",
    "The complexity of the problem is determined by the complexity of the vocabulary.  A more complex vocabulary is a more complex problem.  Let's look at the complexity of the dataset we'll be working with."
   ]
  },
  {
   "cell_type": "code",
   "execution_count": 6,
   "metadata": {},
   "outputs": [
    {
     "name": "stdout",
     "output_type": "stream",
     "text": [
      "1823250 English words.\n",
      "227 unique English words.\n",
      "10 Most common words in the English dataset:\n",
      "\"is\" \",\" \".\" \"in\" \"it\" \"during\" \"the\" \"but\" \"and\" \"sometimes\"\n",
      "\n",
      "1961295 French words.\n",
      "355 unique French words.\n",
      "10 Most common words in the French dataset:\n",
      "\"est\" \".\" \",\" \"en\" \"il\" \"les\" \"mais\" \"et\" \"la\" \"parfois\"\n"
     ]
    }
   ],
   "source": [
    "english_words_counter = collections.Counter([word for sentence in english_sentences for word in sentence.split()])\n",
    "french_words_counter = collections.Counter([word for sentence in french_sentences for word in sentence.split()])\n",
    "\n",
    "print('{} English words.'.format(len([word for sentence in english_sentences for word in sentence.split()])))\n",
    "print('{} unique English words.'.format(len(english_words_counter)))\n",
    "print('10 Most common words in the English dataset:')\n",
    "print('\"' + '\" \"'.join(list(zip(*english_words_counter.most_common(10)))[0]) + '\"')\n",
    "print()\n",
    "print('{} French words.'.format(len([word for sentence in french_sentences for word in sentence.split()])))\n",
    "print('{} unique French words.'.format(len(french_words_counter)))\n",
    "print('10 Most common words in the French dataset:')\n",
    "print('\"' + '\" \"'.join(list(zip(*french_words_counter.most_common(10)))[0]) + '\"')"
   ]
  },
  {
   "cell_type": "markdown",
   "metadata": {},
   "source": [
    "For comparison, _Alice's Adventures in Wonderland_ contains 2,766 unique words of a total of 15,500 words.\n",
    "## Preprocess\n",
    "For this project, you won't use text data as input to your model. Instead, you'll convert the text into sequences of integers using the following preprocess methods:\n",
    "1. Tokenize the words into ids\n",
    "2. Add padding to make all the sequences the same length.\n",
    "\n",
    "Time to start preprocessing the data...\n",
    "### Tokenize (IMPLEMENTATION)\n",
    "For a neural network to predict on text data, it first has to be turned into data it can understand. Text data like \"dog\" is a sequence of ASCII character encodings.  Since a neural network is a series of multiplication and addition operations, the input data needs to be number(s).\n",
    "\n",
    "We can turn each character into a number or each word into a number.  These are called character and word ids, respectively.  Character ids are used for character level models that generate text predictions for each character.  A word level model uses word ids that generate text predictions for each word.  Word level models tend to learn better, since they are lower in complexity, so we'll use those.\n",
    "\n",
    "Turn each sentence into a sequence of words ids using Keras's [`Tokenizer`](https://keras.io/preprocessing/text/#tokenizer) function. Use this function to tokenize `english_sentences` and `french_sentences` in the cell below.\n",
    "\n",
    "Running the cell will run `tokenize` on sample data and show output for debugging."
   ]
  },
  {
   "cell_type": "code",
   "execution_count": 7,
   "metadata": {},
   "outputs": [
    {
     "name": "stdout",
     "output_type": "stream",
     "text": [
      "{'the': 1, 'quick': 2, 'a': 3, 'brown': 4, 'fox': 5, 'jumps': 6, 'over': 7, 'lazy': 8, 'dog': 9, 'by': 10, 'jove': 11, 'my': 12, 'study': 13, 'of': 14, 'lexicography': 15, 'won': 16, 'prize': 17, 'this': 18, 'is': 19, 'short': 20, 'sentence': 21}\n",
      "\n",
      "Sequence 1 in x\n",
      "  Input:  The quick brown fox jumps over the lazy dog .\n",
      "  Output: [1, 2, 4, 5, 6, 7, 1, 8, 9]\n",
      "Sequence 2 in x\n",
      "  Input:  By Jove , my quick study of lexicography won a prize .\n",
      "  Output: [10, 11, 12, 2, 13, 14, 15, 16, 3, 17]\n",
      "Sequence 3 in x\n",
      "  Input:  This is a short sentence .\n",
      "  Output: [18, 19, 3, 20, 21]\n"
     ]
    }
   ],
   "source": [
    "def tokenize(x):\n",
    "    \"\"\"\n",
    "    Tokenize x\n",
    "    :param x: List of sentences/strings to be tokenized\n",
    "    :return: Tuple of (tokenized x data, tokenizer used to tokenize x)\n",
    "    \"\"\"\n",
    "    # TODO: Implement\n",
    "    x_tk = Tokenizer()\n",
    "    x_tk.fit_on_texts(x)\n",
    "    return x_tk.texts_to_sequences(x), x_tk\n",
    "\n",
    "tests.test_tokenize(tokenize)\n",
    "\n",
    "# Tokenize Example output\n",
    "text_sentences = [\n",
    "    'The quick brown fox jumps over the lazy dog .',\n",
    "    'By Jove , my quick study of lexicography won a prize .',\n",
    "    'This is a short sentence .']\n",
    "text_tokenized, text_tokenizer = tokenize(text_sentences)\n",
    "print(text_tokenizer.word_index)\n",
    "print()\n",
    "for sample_i, (sent, token_sent) in enumerate(zip(text_sentences, text_tokenized)):\n",
    "    print('Sequence {} in x'.format(sample_i + 1))\n",
    "    print('  Input:  {}'.format(sent))\n",
    "    print('  Output: {}'.format(token_sent))"
   ]
  },
  {
   "cell_type": "markdown",
   "metadata": {},
   "source": [
    "### Padding (IMPLEMENTATION)\n",
    "When batching the sequence of word ids together, each sequence needs to be the same length.  Since sentences are dynamic in length, we can add padding to the end of the sequences to make them the same length.\n",
    "\n",
    "Make sure all the English sequences have the same length and all the French sequences have the same length by adding padding to the **end** of each sequence using Keras's [`pad_sequences`](https://keras.io/preprocessing/sequence/#pad_sequences) function."
   ]
  },
  {
   "cell_type": "code",
   "execution_count": 8,
   "metadata": {},
   "outputs": [
    {
     "name": "stdout",
     "output_type": "stream",
     "text": [
      "Sequence 1 in x\n",
      "  Input:  [1 2 4 5 6 7 1 8 9]\n",
      "  Output: [1 2 4 5 6 7 1 8 9 0]\n",
      "Sequence 2 in x\n",
      "  Input:  [10 11 12  2 13 14 15 16  3 17]\n",
      "  Output: [10 11 12  2 13 14 15 16  3 17]\n",
      "Sequence 3 in x\n",
      "  Input:  [18 19  3 20 21]\n",
      "  Output: [18 19  3 20 21  0  0  0  0  0]\n"
     ]
    }
   ],
   "source": [
    "def pad(x, length=None):\n",
    "    \"\"\"\n",
    "    Pad x\n",
    "    :param x: List of sequences.\n",
    "    :param length: Length to pad the sequence to.  If None, use length of longest sequence in x.\n",
    "    :return: Padded numpy array of sequences\n",
    "    \"\"\"\n",
    "    # TODO: Implement\n",
    "    if length is None:\n",
    "        length = len(max(x, key=len))\n",
    "\n",
    "    return pad_sequences(x, maxlen=length, padding='post')\n",
    "\n",
    "tests.test_pad(pad)\n",
    "\n",
    "# Pad Tokenized output\n",
    "test_pad = pad(text_tokenized)\n",
    "for sample_i, (token_sent, pad_sent) in enumerate(zip(text_tokenized, test_pad)):\n",
    "    print('Sequence {} in x'.format(sample_i + 1))\n",
    "    print('  Input:  {}'.format(np.array(token_sent)))\n",
    "    print('  Output: {}'.format(pad_sent))"
   ]
  },
  {
   "cell_type": "markdown",
   "metadata": {},
   "source": [
    "### Preprocess Pipeline\n",
    "Your focus for this project is to build neural network architecture, so we won't ask you to create a preprocess pipeline.  Instead, we've provided you with the implementation of the `preprocess` function."
   ]
  },
  {
   "cell_type": "code",
   "execution_count": 9,
   "metadata": {},
   "outputs": [
    {
     "name": "stdout",
     "output_type": "stream",
     "text": [
      "Data Preprocessed\n",
      "Max English sentence length: 15\n",
      "Max French sentence length: 21\n",
      "English vocabulary size: 199\n",
      "French vocabulary size: 344\n"
     ]
    }
   ],
   "source": [
    "def preprocess(x, y):\n",
    "    \"\"\"\n",
    "    Preprocess x and y\n",
    "    :param x: Feature List of sentences\n",
    "    :param y: Label List of sentences\n",
    "    :return: Tuple of (Preprocessed x, Preprocessed y, x tokenizer, y tokenizer)\n",
    "    \"\"\"\n",
    "    preprocess_x, x_tk = tokenize(x)\n",
    "    preprocess_y, y_tk = tokenize(y)\n",
    "\n",
    "    preprocess_x = pad(preprocess_x)\n",
    "    preprocess_y = pad(preprocess_y)\n",
    "\n",
    "    # Keras's sparse_categorical_crossentropy function requires the labels to be in 3 dimensions\n",
    "    preprocess_y = preprocess_y.reshape(*preprocess_y.shape, 1)\n",
    "\n",
    "    return preprocess_x, preprocess_y, x_tk, y_tk\n",
    "\n",
    "preproc_english_sentences, preproc_french_sentences, english_tokenizer, french_tokenizer =\\\n",
    "    preprocess(english_sentences, french_sentences)\n",
    "    \n",
    "max_english_sequence_length = preproc_english_sentences.shape[1]\n",
    "max_french_sequence_length = preproc_french_sentences.shape[1]\n",
    "english_vocab_size = len(english_tokenizer.word_index)\n",
    "french_vocab_size = len(french_tokenizer.word_index)\n",
    "\n",
    "print('Data Preprocessed')\n",
    "print(\"Max English sentence length:\", max_english_sequence_length)\n",
    "print(\"Max French sentence length:\", max_french_sequence_length)\n",
    "print(\"English vocabulary size:\", english_vocab_size)\n",
    "print(\"French vocabulary size:\", french_vocab_size)"
   ]
  },
  {
   "cell_type": "markdown",
   "metadata": {},
   "source": [
    "## Models\n",
    "In this section, you will experiment with various neural network architectures.\n",
    "You will begin by training four relatively simple architectures.\n",
    "- Model 1 is a simple RNN\n",
    "- Model 2 is a RNN with Embedding\n",
    "- Model 3 is a Bidirectional RNN\n",
    "- Model 4 is an optional Encoder-Decoder RNN\n",
    "\n",
    "After experimenting with the four simple architectures, you will construct a deeper architecture that is designed to outperform all four models.\n",
    "### Ids Back to Text\n",
    "The neural network will be translating the input to words ids, which isn't the final form we want.  We want the French translation.  The function `logits_to_text` will bridge the gab between the logits from the neural network to the French translation.  You'll be using this function to better understand the output of the neural network."
   ]
  },
  {
   "cell_type": "code",
   "execution_count": 10,
   "metadata": {},
   "outputs": [
    {
     "name": "stdout",
     "output_type": "stream",
     "text": [
      "`logits_to_text` function loaded.\n"
     ]
    }
   ],
   "source": [
    "def logits_to_text(logits, tokenizer):\n",
    "    \"\"\"\n",
    "    Turn logits from a neural network into text using the tokenizer\n",
    "    :param logits: Logits from a neural network\n",
    "    :param tokenizer: Keras Tokenizer fit on the labels\n",
    "    :return: String that represents the text of the logits\n",
    "    \"\"\"\n",
    "    index_to_words = {id: word for word, id in tokenizer.word_index.items()}\n",
    "    index_to_words[0] = '<PAD>'\n",
    "\n",
    "    return ' '.join([index_to_words[prediction] for prediction in np.argmax(logits, 1)])\n",
    "\n",
    "print('`logits_to_text` function loaded.')"
   ]
  },
  {
   "cell_type": "markdown",
   "metadata": {},
   "source": [
    "### Model 1: RNN (IMPLEMENTATION)\n",
    "![RNN](images/rnn.png)\n",
    "A basic RNN model is a good baseline for sequence data.  In this model, you'll build a RNN that translates English to French."
   ]
  },
  {
   "cell_type": "code",
   "execution_count": 13,
   "metadata": {},
   "outputs": [
    {
     "name": "stdout",
     "output_type": "stream",
     "text": [
      "Train on 110288 samples, validate on 27573 samples\n",
      "Epoch 1/10\n",
      "110288/110288 [==============================] - 8s 74us/step - loss: 3.4704 - acc: 0.4149 - val_loss: nan - val_acc: 0.4586\n",
      "Epoch 2/10\n",
      "110288/110288 [==============================] - 6s 57us/step - loss: 2.4391 - acc: 0.4711 - val_loss: nan - val_acc: 0.4837\n",
      "Epoch 3/10\n",
      "110288/110288 [==============================] - 6s 57us/step - loss: 2.1875 - acc: 0.5045 - val_loss: nan - val_acc: 0.5288\n",
      "Epoch 4/10\n",
      "110288/110288 [==============================] - 6s 57us/step - loss: 1.9392 - acc: 0.5523 - val_loss: nan - val_acc: 0.5686\n",
      "Epoch 5/10\n",
      "110288/110288 [==============================] - 6s 57us/step - loss: 1.7690 - acc: 0.5748 - val_loss: nan - val_acc: 0.5789\n",
      "Epoch 6/10\n",
      "110288/110288 [==============================] - 6s 56us/step - loss: 1.6723 - acc: 0.5796 - val_loss: nan - val_acc: 0.5820\n",
      "Epoch 7/10\n",
      "110288/110288 [==============================] - 6s 56us/step - loss: 1.6110 - acc: 0.5849 - val_loss: nan - val_acc: 0.5948\n",
      "Epoch 8/10\n",
      "110288/110288 [==============================] - 6s 57us/step - loss: 1.5594 - acc: 0.5959 - val_loss: nan - val_acc: 0.5993\n",
      "Epoch 9/10\n",
      "110288/110288 [==============================] - 6s 57us/step - loss: 1.5101 - acc: 0.6041 - val_loss: nan - val_acc: 0.6065\n",
      "Epoch 10/10\n",
      "110288/110288 [==============================] - 6s 57us/step - loss: 1.4655 - acc: 0.6109 - val_loss: nan - val_acc: 0.6141\n",
      "new jersey est parfois parfois en en et il est il en en <PAD> <PAD> <PAD> <PAD> <PAD> <PAD> <PAD> <PAD>\n"
     ]
    }
   ],
   "source": [
    "def simple_model(input_shape, output_sequence_length, english_vocab_size, french_vocab_size):\n",
    "    \"\"\"\n",
    "    Build and train a basic RNN on x and y\n",
    "    :param input_shape: Tuple of input shape\n",
    "    :param output_sequence_length: Length of output sequence\n",
    "    :param english_vocab_size: Number of unique English words in the dataset\n",
    "    :param french_vocab_size: Number of unique French words in the dataset\n",
    "    :return: Keras model built, but not trained\n",
    "    \"\"\"\n",
    "    # TODO: Build the layers\n",
    "    learning_rate = 1e-3\n",
    "    \n",
    "    input_seq = Input(input_shape[1:])\n",
    "    rnn = GRU(64, return_sequences=True)(input_seq)\n",
    "    logits = TimeDistributed(Dense(french_vocab_size, activation='softmax'))(rnn)\n",
    "    \n",
    "    model = Model(inputs=input_seq, outputs=logits)\n",
    "    model.compile(loss=sparse_categorical_crossentropy,\n",
    "                  optimizer=Adam(learning_rate),\n",
    "                  metrics=['accuracy'])\n",
    "    return model\n",
    "\n",
    "tests.test_simple_model(simple_model)\n",
    "\n",
    "# Reshaping the input to work with a basic RNN\n",
    "tmp_x = pad(preproc_english_sentences, max_french_sequence_length)\n",
    "tmp_x = tmp_x.reshape((-1, preproc_french_sentences.shape[-2], 1))\n",
    "\n",
    "# Train the neural network\n",
    "simple_rnn_model = simple_model(\n",
    "    tmp_x.shape,\n",
    "    max_french_sequence_length,\n",
    "    english_vocab_size,\n",
    "    french_vocab_size)\n",
    "simple_rnn_model.fit(tmp_x, preproc_french_sentences, batch_size=1024, epochs=10, validation_split=0.2)\n",
    "\n",
    "# Print prediction(s)\n",
    "print(logits_to_text(simple_rnn_model.predict(tmp_x[:1])[0], french_tokenizer))"
   ]
  },
  {
   "cell_type": "markdown",
   "metadata": {},
   "source": [
    "### Model 2: Embedding (IMPLEMENTATION)\n",
    "![RNN](images/embedding.png)\n",
    "You've turned the words into ids, but there's a better representation of a word.  This is called word embeddings.  An embedding is a vector representation of the word that is close to similar words in n-dimensional space, where the n represents the size of the embedding vectors.\n",
    "\n",
    "In this model, you'll create a RNN model using embedding."
   ]
  },
  {
   "cell_type": "code",
   "execution_count": 12,
   "metadata": {},
   "outputs": [
    {
     "name": "stdout",
     "output_type": "stream",
     "text": [
      "Train on 110288 samples, validate on 27573 samples\n",
      "Epoch 1/10\n",
      "110288/110288 [==============================] - 8s 69us/step - loss: 3.8080 - acc: 0.4072 - val_loss: nan - val_acc: 0.4095\n",
      "Epoch 2/10\n",
      "110288/110288 [==============================] - 7s 65us/step - loss: 2.5855 - acc: 0.4677 - val_loss: nan - val_acc: 0.5160\n",
      "Epoch 3/10\n",
      "110288/110288 [==============================] - 7s 65us/step - loss: 1.8610 - acc: 0.5774 - val_loss: nan - val_acc: 0.6265\n",
      "Epoch 4/10\n",
      "110288/110288 [==============================] - 7s 65us/step - loss: 1.3768 - acc: 0.6678 - val_loss: nan - val_acc: 0.7120\n",
      "Epoch 5/10\n",
      "110288/110288 [==============================] - 7s 65us/step - loss: 1.1166 - acc: 0.7350 - val_loss: nan - val_acc: 0.7545\n",
      "Epoch 6/10\n",
      "110288/110288 [==============================] - 7s 65us/step - loss: 0.9509 - acc: 0.7675 - val_loss: nan - val_acc: 0.7787\n",
      "Epoch 7/10\n",
      "110288/110288 [==============================] - 7s 64us/step - loss: 0.8303 - acc: 0.7872 - val_loss: nan - val_acc: 0.7972\n",
      "Epoch 8/10\n",
      "110288/110288 [==============================] - 7s 65us/step - loss: 0.7369 - acc: 0.8047 - val_loss: nan - val_acc: 0.8151\n",
      "Epoch 9/10\n",
      "110288/110288 [==============================] - 7s 66us/step - loss: 0.6631 - acc: 0.8213 - val_loss: nan - val_acc: 0.8292\n",
      "Epoch 10/10\n",
      "110288/110288 [==============================] - 7s 65us/step - loss: 0.6074 - acc: 0.8342 - val_loss: nan - val_acc: 0.8393\n",
      "new jersey est parfois calme en l' et et il est neigeux en avril <PAD> <PAD> <PAD> <PAD> <PAD> <PAD> <PAD>\n"
     ]
    }
   ],
   "source": [
    "def embed_model(input_shape, output_sequence_length, english_vocab_size, french_vocab_size):\n",
    "    \"\"\"\n",
    "    Build and train a RNN model using word embedding on x and y\n",
    "    :param input_shape: Tuple of input shape\n",
    "    :param output_sequence_length: Length of output sequence\n",
    "    :param english_vocab_size: Number of unique English words in the dataset\n",
    "    :param french_vocab_size: Number of unique French words in the dataset\n",
    "    :return: Keras model built, but not trained\n",
    "    \"\"\"\n",
    "    # TODO: Implement\n",
    "    learning_rate = 1e-3\n",
    "    \n",
    "    input_seq = Input(input_shape[1:])\n",
    "    embed_layer = Embedding(english_vocab_size, 64, input_length=output_sequence_length)(input_seq)\n",
    "    rnn = GRU(64, return_sequences=True)(embed_layer)\n",
    "\n",
    "    logits = TimeDistributed(Dense(french_vocab_size, activation='softmax'))(rnn)\n",
    "    \n",
    "    model = Model(inputs=input_seq, outputs=logits)\n",
    "    model.compile(loss=sparse_categorical_crossentropy,\n",
    "                  optimizer=Adam(learning_rate),\n",
    "                  metrics=['accuracy'])\n",
    "    return model\n",
    "\n",
    "tests.test_embed_model(embed_model)\n",
    "\n",
    "# TODO: Reshape the input\n",
    "tmp_x = pad(preproc_english_sentences, max_french_sequence_length)\n",
    "# tmp_x = tmp_x.reshape((-1, preproc_french_sentences.shape[-2], 1))\n",
    "\n",
    "# TODO: Train the neural network\n",
    "embed_rnn_model = embed_model(\n",
    "    tmp_x.shape,\n",
    "    max_french_sequence_length,\n",
    "    english_vocab_size,\n",
    "    french_vocab_size)\n",
    "embed_rnn_model.fit(tmp_x, preproc_french_sentences, batch_size=1024, epochs=10, validation_split=0.2)\n",
    "\n",
    "# TODO: Print prediction(s)\n",
    "print(logits_to_text(embed_rnn_model.predict(tmp_x[:1])[0], french_tokenizer))"
   ]
  },
  {
   "cell_type": "markdown",
   "metadata": {},
   "source": [
    "### Model 3: Bidirectional RNNs (IMPLEMENTATION)\n",
    "![RNN](images/bidirectional.png)\n",
    "One restriction of a RNN is that it can't see the future input, only the past.  This is where bidirectional recurrent neural networks come in.  They are able to see the future data."
   ]
  },
  {
   "cell_type": "code",
   "execution_count": 17,
   "metadata": {},
   "outputs": [
    {
     "name": "stdout",
     "output_type": "stream",
     "text": [
      "Train on 110288 samples, validate on 27573 samples\n",
      "Epoch 1/10\n",
      "110288/110288 [==============================] - 10s 95us/step - loss: 3.1581 - acc: 0.4692 - val_loss: nan - val_acc: 0.5238\n",
      "Epoch 2/10\n",
      "110288/110288 [==============================] - 10s 90us/step - loss: 1.9445 - acc: 0.5568 - val_loss: nan - val_acc: 0.5728\n",
      "Epoch 3/10\n",
      "110288/110288 [==============================] - 10s 90us/step - loss: 1.6197 - acc: 0.5929 - val_loss: nan - val_acc: 0.6059\n",
      "Epoch 4/10\n",
      "110288/110288 [==============================] - 10s 90us/step - loss: 1.4696 - acc: 0.6131 - val_loss: nan - val_acc: 0.6225\n",
      "Epoch 5/10\n",
      "110288/110288 [==============================] - 10s 89us/step - loss: 1.3817 - acc: 0.6248 - val_loss: nan - val_acc: 0.6301\n",
      "Epoch 6/10\n",
      "110288/110288 [==============================] - 10s 90us/step - loss: 1.3205 - acc: 0.6353 - val_loss: nan - val_acc: 0.6412\n",
      "Epoch 7/10\n",
      "110288/110288 [==============================] - 10s 89us/step - loss: 1.2722 - acc: 0.6443 - val_loss: nan - val_acc: 0.6485\n",
      "Epoch 8/10\n",
      "110288/110288 [==============================] - 10s 89us/step - loss: 1.2311 - acc: 0.6526 - val_loss: nan - val_acc: 0.6569\n",
      "Epoch 9/10\n",
      "110288/110288 [==============================] - 10s 90us/step - loss: 1.1966 - acc: 0.6592 - val_loss: nan - val_acc: 0.6623\n",
      "Epoch 10/10\n",
      "110288/110288 [==============================] - 10s 89us/step - loss: 1.1670 - acc: 0.6639 - val_loss: nan - val_acc: 0.6646\n",
      "new jersey est parfois calme en l' et il est est en en <PAD> <PAD> <PAD> <PAD> <PAD> <PAD> <PAD> <PAD>\n"
     ]
    }
   ],
   "source": [
    "def bd_model(input_shape, output_sequence_length, english_vocab_size, french_vocab_size):\n",
    "    \"\"\"\n",
    "    Build and train a bidirectional RNN model on x and y\n",
    "    :param input_shape: Tuple of input shape\n",
    "    :param output_sequence_length: Length of output sequence\n",
    "    :param english_vocab_size: Number of unique English words in the dataset\n",
    "    :param french_vocab_size: Number of unique French words in the dataset\n",
    "    :return: Keras model built, but not trained\n",
    "    \"\"\"\n",
    "    # TODO: Implement\n",
    "    learning_rate = 1e-3\n",
    "    \n",
    "    input_seq = Input(input_shape[1:])\n",
    "    bdrnn = Bidirectional(GRU(64, return_sequences=True))(input_seq)\n",
    "    logits = TimeDistributed(Dense(french_vocab_size, activation='softmax'))(bdrnn)\n",
    "    model = Model(inputs=input_seq, outputs=logits)\n",
    "    model.compile(loss=sparse_categorical_crossentropy,\n",
    "                  optimizer=Adam(learning_rate),\n",
    "                  metrics=['accuracy'])\n",
    "    return model\n",
    "\n",
    "tests.test_bd_model(bd_model)\n",
    "\n",
    "\n",
    "# TODO: Train and Print prediction(s)\n",
    "tmp_x = pad(preproc_english_sentences, max_french_sequence_length)\n",
    "tmp_x = tmp_x.reshape((-1, preproc_french_sentences.shape[-2], 1))\n",
    "\n",
    "bdrnn_model = bd_model(\n",
    "    tmp_x.shape,\n",
    "    max_french_sequence_length,\n",
    "    english_vocab_size,\n",
    "    french_vocab_size)\n",
    "bdrnn_model.fit(tmp_x, preproc_french_sentences, batch_size=1024, epochs=10, validation_split=0.2)\n",
    "\n",
    "print(logits_to_text(bdrnn_model.predict(tmp_x[:1])[0], french_tokenizer))"
   ]
  },
  {
   "cell_type": "markdown",
   "metadata": {},
   "source": [
    "### Model 4: Encoder-Decoder (OPTIONAL)\n",
    "Time to look at encoder-decoder models.  This model is made up of an encoder and decoder. The encoder creates a matrix representation of the sentence.  The decoder takes this matrix as input and predicts the translation as output.\n",
    "\n",
    "Create an encoder-decoder model in the cell below."
   ]
  },
  {
   "cell_type": "code",
   "execution_count": 21,
   "metadata": {},
   "outputs": [
    {
     "name": "stdout",
     "output_type": "stream",
     "text": [
      "Train on 110288 samples, validate on 27573 samples\n",
      "Epoch 1/10\n",
      "110288/110288 [==============================] - 13s 122us/step - loss: 3.5173 - acc: 0.4082 - val_loss: nan - val_acc: 0.4445\n",
      "Epoch 2/10\n",
      "110288/110288 [==============================] - 12s 112us/step - loss: 2.5567 - acc: 0.4637 - val_loss: nan - val_acc: 0.4768\n",
      "Epoch 3/10\n",
      "110288/110288 [==============================] - 12s 108us/step - loss: 2.2927 - acc: 0.4970 - val_loss: nan - val_acc: 0.5149\n",
      "Epoch 4/10\n",
      "110288/110288 [==============================] - 12s 111us/step - loss: 2.0439 - acc: 0.5187 - val_loss: nan - val_acc: 0.5325\n",
      "Epoch 5/10\n",
      "110288/110288 [==============================] - 12s 110us/step - loss: 1.9074 - acc: 0.5412 - val_loss: nan - val_acc: 0.5429\n",
      "Epoch 6/10\n",
      "110288/110288 [==============================] - 12s 110us/step - loss: 1.8107 - acc: 0.5500 - val_loss: nan - val_acc: 0.5533\n",
      "Epoch 7/10\n",
      "110288/110288 [==============================] - 12s 109us/step - loss: 1.7370 - acc: 0.5620 - val_loss: nan - val_acc: 0.5656\n",
      "Epoch 8/10\n",
      "110288/110288 [==============================] - 12s 109us/step - loss: 1.6759 - acc: 0.5736 - val_loss: nan - val_acc: 0.5817\n",
      "Epoch 9/10\n",
      "110288/110288 [==============================] - 12s 110us/step - loss: 1.6265 - acc: 0.5801 - val_loss: nan - val_acc: 0.5815\n",
      "Epoch 10/10\n",
      "110288/110288 [==============================] - 12s 109us/step - loss: 1.5806 - acc: 0.5853 - val_loss: nan - val_acc: 0.5896\n",
      "new jersey est est en en en et il est est en en <PAD> <PAD> <PAD> <PAD> <PAD> <PAD> <PAD> <PAD>\n"
     ]
    }
   ],
   "source": [
    "def encdec_model(input_shape, output_sequence_length, english_vocab_size, french_vocab_size):\n",
    "    \"\"\"\n",
    "    Build and train an encoder-decoder model on x and y\n",
    "    :param input_shape: Tuple of input shape\n",
    "    :param output_sequence_length: Length of output sequence\n",
    "    :param english_vocab_size: Number of unique English words in the dataset\n",
    "    :param french_vocab_size: Number of unique French words in the dataset\n",
    "    :return: Keras model built, but not trained\n",
    "    \"\"\"\n",
    "    # OPTIONAL: Implement\n",
    "    learning_rate = 1e-3\n",
    "    \n",
    "    inputs = Input(input_shape[1:])\n",
    "    encoder = LSTM(64)(inputs)\n",
    "    decoder = RepeatVector(output_sequence_length)(encoder)\n",
    "    decoder = LSTM(64, return_sequences=True)(decoder)\n",
    "    decoded = TimeDistributed(Dense(french_vocab_size, activation='softmax'))(decoder)\n",
    "\n",
    "    model = Model(inputs=inputs, outputs=decoded)\n",
    "    model.compile(loss='sparse_categorical_crossentropy',\n",
    "                  optimizer=Adam(learning_rate),\n",
    "                  metrics=['accuracy'])\n",
    "\n",
    "    return model\n",
    "\n",
    "tests.test_encdec_model(encdec_model)\n",
    "\n",
    "\n",
    "# OPTIONAL: Train and Print prediction(s)\n",
    "tmp_x = pad(preproc_english_sentences, max_french_sequence_length)\n",
    "tmp_x = tmp_x.reshape((-1, preproc_french_sentences.shape[-2], 1))\n",
    "\n",
    "\n",
    "encdec_model = encdec_model(\n",
    "    tmp_x.shape,\n",
    "    max_french_sequence_length,\n",
    "    english_vocab_size,\n",
    "    french_vocab_size)\n",
    "\n",
    "encdec_model.fit(tmp_x, preproc_french_sentences, batch_size=1024, epochs=10, validation_split=0.2)\n",
    "\n",
    "# TODO: Print prediction(s)\n",
    "print(logits_to_text(encdec_model.predict(tmp_x[:1])[0], french_tokenizer))"
   ]
  },
  {
   "cell_type": "markdown",
   "metadata": {},
   "source": [
    "### Model 5: Custom (IMPLEMENTATION)\n",
    "Use everything you learned from the previous models to create a model that incorporates embedding and a bidirectional rnn into one model."
   ]
  },
  {
   "cell_type": "code",
   "execution_count": 19,
   "metadata": {},
   "outputs": [
    {
     "name": "stdout",
     "output_type": "stream",
     "text": [
      "Final Model Loaded\n",
      "Train on 110288 samples, validate on 27573 samples\n",
      "Epoch 1/10\n",
      "110288/110288 [==============================] - 12s 112us/step - loss: 3.4640 - acc: 0.4272 - val_loss: nan - val_acc: 0.4804\n",
      "Epoch 2/10\n",
      "110288/110288 [==============================] - 12s 105us/step - loss: 2.3184 - acc: 0.5065 - val_loss: nan - val_acc: 0.5627\n",
      "Epoch 3/10\n",
      "110288/110288 [==============================] - 12s 105us/step - loss: 1.6093 - acc: 0.6150 - val_loss: nan - val_acc: 0.6654\n",
      "Epoch 4/10\n",
      "110288/110288 [==============================] - 12s 105us/step - loss: 1.1452 - acc: 0.7100 - val_loss: nan - val_acc: 0.7456\n",
      "Epoch 5/10\n",
      "110288/110288 [==============================] - 12s 105us/step - loss: 0.9029 - acc: 0.7620 - val_loss: nan - val_acc: 0.7777\n",
      "Epoch 6/10\n",
      "110288/110288 [==============================] - 12s 105us/step - loss: 0.7489 - acc: 0.7929 - val_loss: nan - val_acc: 0.8074\n",
      "Epoch 7/10\n",
      "110288/110288 [==============================] - 12s 106us/step - loss: 0.6397 - acc: 0.8174 - val_loss: nan - val_acc: 0.8276\n",
      "Epoch 8/10\n",
      "110288/110288 [==============================] - 12s 105us/step - loss: 0.5597 - acc: 0.8359 - val_loss: nan - val_acc: 0.8447\n",
      "Epoch 9/10\n",
      "110288/110288 [==============================] - 12s 105us/step - loss: 0.4992 - acc: 0.8513 - val_loss: nan - val_acc: 0.8586\n",
      "Epoch 10/10\n",
      "110288/110288 [==============================] - 12s 105us/step - loss: 0.4524 - acc: 0.8651 - val_loss: nan - val_acc: 0.8720\n",
      "new jersey est parfois calme en cours et il il est est en en avril <PAD> <PAD> <PAD> <PAD> <PAD> <PAD>\n"
     ]
    }
   ],
   "source": [
    "def model_final(input_shape, output_sequence_length, english_vocab_size, french_vocab_size):\n",
    "    \"\"\"\n",
    "    Build and train a model that incorporates embedding, encoder-decoder, and bidirectional RNN on x and y\n",
    "    :param input_shape: Tuple of input shape\n",
    "    :param output_sequence_length: Length of output sequence\n",
    "    :param english_vocab_size: Number of unique English words in the dataset\n",
    "    :param french_vocab_size: Number of unique French words in the dataset\n",
    "    :return: Keras model built, but not trained\n",
    "    \"\"\"\n",
    "    # TODO: Implement\n",
    "    learning_rate=1e-3\n",
    "\n",
    "    input_seq = Input(input_shape[1:])\n",
    "    emb = Embedding(english_vocab_size, 64, input_length=output_sequence_length)(input_seq)\n",
    "    bdrnn = Bidirectional(GRU(64, return_sequences=True))(emb)\n",
    "    logits = TimeDistributed(Dense(french_vocab_size, activation='softmax'))(bdrnn)\n",
    "\n",
    "    model = Model(inputs=input_seq, outputs=logits)\n",
    "    model.compile(loss=sparse_categorical_crossentropy,\n",
    "                  optimizer=Adam(learning_rate),\n",
    "                  metrics=['accuracy'])\n",
    "    return model\n",
    "\n",
    "tests.test_model_final(model_final)\n",
    "\n",
    "\n",
    "print('Final Model Loaded')\n",
    "# TODO: Train the final model\n",
    "\n",
    "# Pad the input\n",
    "tmp_x = pad(preproc_english_sentences, max_french_sequence_length)\n",
    "\n",
    "# Train\n",
    "emb_bdrnn = model_final(\n",
    "    tmp_x.shape,\n",
    "    max_french_sequence_length,\n",
    "    english_vocab_size,\n",
    "    french_vocab_size)\n",
    "\n",
    "emb_bdrnn.fit(tmp_x, preproc_french_sentences, batch_size=1024, epochs=10, validation_split=0.2)\n",
    "\n",
    "# Print prediction(s)\n",
    "print(logits_to_text(emb_bdrnn.predict(tmp_x[:1])[0], french_tokenizer))"
   ]
  },
  {
   "cell_type": "markdown",
   "metadata": {},
   "source": [
    "## Prediction (IMPLEMENTATION)"
   ]
  },
  {
   "cell_type": "code",
   "execution_count": 25,
   "metadata": {},
   "outputs": [
    {
     "name": "stdout",
     "output_type": "stream",
     "text": [
      "Train on 110288 samples, validate on 27573 samples\n",
      "Epoch 1/100\n",
      "110288/110288 [==============================] - 12s 113us/step - loss: 3.4249 - acc: 0.4314 - val_loss: nan - val_acc: 0.4755\n",
      "Epoch 2/100\n",
      "110288/110288 [==============================] - 11s 102us/step - loss: 2.2984 - acc: 0.5008 - val_loss: nan - val_acc: 0.5425\n",
      "Epoch 3/100\n",
      "110288/110288 [==============================] - 11s 103us/step - loss: 1.5964 - acc: 0.6123 - val_loss: nan - val_acc: 0.6649\n",
      "Epoch 4/100\n",
      "110288/110288 [==============================] - 11s 102us/step - loss: 1.1494 - acc: 0.7083 - val_loss: nan - val_acc: 0.7440\n",
      "Epoch 5/100\n",
      "110288/110288 [==============================] - 11s 103us/step - loss: 0.9181 - acc: 0.7624 - val_loss: nan - val_acc: 0.7793\n",
      "Epoch 6/100\n",
      "110288/110288 [==============================] - 11s 104us/step - loss: 0.7758 - acc: 0.7903 - val_loss: nan - val_acc: 0.8021\n",
      "Epoch 7/100\n",
      "110288/110288 [==============================] - 11s 103us/step - loss: 0.6662 - acc: 0.8132 - val_loss: nan - val_acc: 0.8233\n",
      "Epoch 8/100\n",
      "110288/110288 [==============================] - 11s 102us/step - loss: 0.5806 - acc: 0.8329 - val_loss: nan - val_acc: 0.8403\n",
      "Epoch 9/100\n",
      "110288/110288 [==============================] - 11s 102us/step - loss: 0.5168 - acc: 0.8476 - val_loss: nan - val_acc: 0.8548\n",
      "Epoch 10/100\n",
      "110288/110288 [==============================] - 11s 102us/step - loss: 0.4652 - acc: 0.8614 - val_loss: nan - val_acc: 0.8674\n",
      "Epoch 11/100\n",
      "110288/110288 [==============================] - 11s 103us/step - loss: 0.4256 - acc: 0.8734 - val_loss: nan - val_acc: 0.8784\n",
      "Epoch 12/100\n",
      "110288/110288 [==============================] - 11s 104us/step - loss: 0.3908 - acc: 0.8843 - val_loss: nan - val_acc: 0.8883\n",
      "Epoch 13/100\n",
      "110288/110288 [==============================] - 11s 103us/step - loss: 0.3636 - acc: 0.8928 - val_loss: nan - val_acc: 0.8950\n",
      "Epoch 14/100\n",
      "110288/110288 [==============================] - 11s 103us/step - loss: 0.3399 - acc: 0.9000 - val_loss: nan - val_acc: 0.9018\n",
      "Epoch 15/100\n",
      "110288/110288 [==============================] - 11s 102us/step - loss: 0.3202 - acc: 0.9062 - val_loss: nan - val_acc: 0.9085\n",
      "Epoch 16/100\n",
      "110288/110288 [==============================] - 11s 103us/step - loss: 0.3027 - acc: 0.9117 - val_loss: nan - val_acc: 0.9119\n",
      "Epoch 17/100\n",
      "110288/110288 [==============================] - 11s 103us/step - loss: 0.2881 - acc: 0.9160 - val_loss: nan - val_acc: 0.9165\n",
      "Epoch 18/100\n",
      "110288/110288 [==============================] - 11s 103us/step - loss: 0.2756 - acc: 0.9194 - val_loss: nan - val_acc: 0.9203\n",
      "Epoch 19/100\n",
      "110288/110288 [==============================] - 11s 104us/step - loss: 0.2625 - acc: 0.9233 - val_loss: nan - val_acc: 0.9238\n",
      "Epoch 20/100\n",
      "110288/110288 [==============================] - 11s 102us/step - loss: 0.2517 - acc: 0.9265 - val_loss: nan - val_acc: 0.9274\n",
      "Epoch 21/100\n",
      "110288/110288 [==============================] - 11s 103us/step - loss: 0.2413 - acc: 0.9297 - val_loss: nan - val_acc: 0.9301\n",
      "Epoch 22/100\n",
      "110288/110288 [==============================] - 11s 104us/step - loss: 0.2314 - acc: 0.9328 - val_loss: nan - val_acc: 0.9326\n",
      "Epoch 23/100\n",
      "110288/110288 [==============================] - 11s 103us/step - loss: 0.2235 - acc: 0.9347 - val_loss: nan - val_acc: 0.9351\n",
      "Epoch 24/100\n",
      "110288/110288 [==============================] - 11s 103us/step - loss: 0.2150 - acc: 0.9374 - val_loss: nan - val_acc: 0.9372\n",
      "Epoch 25/100\n",
      "110288/110288 [==============================] - 11s 103us/step - loss: 0.2083 - acc: 0.9394 - val_loss: nan - val_acc: 0.9374\n",
      "Epoch 26/100\n",
      "110288/110288 [==============================] - 11s 103us/step - loss: 0.2014 - acc: 0.9412 - val_loss: nan - val_acc: 0.9406\n",
      "Epoch 27/100\n",
      "110288/110288 [==============================] - 11s 103us/step - loss: 0.1942 - acc: 0.9436 - val_loss: nan - val_acc: 0.9428\n",
      "Epoch 28/100\n",
      "110288/110288 [==============================] - 11s 103us/step - loss: 0.1888 - acc: 0.9452 - val_loss: nan - val_acc: 0.9446\n",
      "Epoch 29/100\n",
      "110288/110288 [==============================] - 11s 104us/step - loss: 0.1824 - acc: 0.9473 - val_loss: nan - val_acc: 0.9460\n",
      "Epoch 30/100\n",
      "110288/110288 [==============================] - 11s 102us/step - loss: 0.1783 - acc: 0.9484 - val_loss: nan - val_acc: 0.9471\n",
      "Epoch 31/100\n",
      "110288/110288 [==============================] - 11s 103us/step - loss: 0.1730 - acc: 0.9500 - val_loss: nan - val_acc: 0.9471\n",
      "Epoch 32/100\n",
      "110288/110288 [==============================] - 11s 102us/step - loss: 0.1685 - acc: 0.9515 - val_loss: nan - val_acc: 0.9504\n",
      "Epoch 33/100\n",
      "110288/110288 [==============================] - 12s 104us/step - loss: 0.1638 - acc: 0.9529 - val_loss: nan - val_acc: 0.9505\n",
      "Epoch 34/100\n",
      "110288/110288 [==============================] - 11s 102us/step - loss: 0.1598 - acc: 0.9543 - val_loss: nan - val_acc: 0.9525\n",
      "Epoch 35/100\n",
      "110288/110288 [==============================] - 11s 103us/step - loss: 0.1558 - acc: 0.9554 - val_loss: nan - val_acc: 0.9524\n",
      "Epoch 36/100\n",
      "110288/110288 [==============================] - 11s 103us/step - loss: 0.1528 - acc: 0.9562 - val_loss: nan - val_acc: 0.9539\n",
      "Epoch 37/100\n",
      "110288/110288 [==============================] - 11s 104us/step - loss: 0.1488 - acc: 0.9575 - val_loss: nan - val_acc: 0.9540\n",
      "Epoch 38/100\n",
      "110288/110288 [==============================] - 11s 103us/step - loss: 0.1462 - acc: 0.9583 - val_loss: nan - val_acc: 0.9561\n",
      "Epoch 39/100\n",
      "110288/110288 [==============================] - 11s 102us/step - loss: 0.1427 - acc: 0.9593 - val_loss: nan - val_acc: 0.9558\n",
      "Epoch 40/100\n",
      "110288/110288 [==============================] - 11s 103us/step - loss: 0.1395 - acc: 0.9604 - val_loss: nan - val_acc: 0.9576\n",
      "Epoch 41/100\n",
      "110288/110288 [==============================] - 11s 103us/step - loss: 0.1384 - acc: 0.9605 - val_loss: nan - val_acc: 0.9579\n",
      "Epoch 42/100\n",
      "110288/110288 [==============================] - 11s 103us/step - loss: 0.1338 - acc: 0.9620 - val_loss: nan - val_acc: 0.9587\n",
      "Epoch 43/100\n",
      "110288/110288 [==============================] - 11s 103us/step - loss: 0.1320 - acc: 0.9626 - val_loss: nan - val_acc: 0.9595\n",
      "Epoch 44/100\n",
      "110288/110288 [==============================] - 11s 104us/step - loss: 0.1299 - acc: 0.9632 - val_loss: nan - val_acc: 0.9599\n",
      "Epoch 45/100\n",
      "110288/110288 [==============================] - 11s 103us/step - loss: 0.1281 - acc: 0.9637 - val_loss: nan - val_acc: 0.9609\n",
      "Epoch 46/100\n",
      "110288/110288 [==============================] - 11s 103us/step - loss: 0.1252 - acc: 0.9646 - val_loss: nan - val_acc: 0.9606\n",
      "Epoch 47/100\n",
      "110288/110288 [==============================] - 11s 103us/step - loss: 0.1232 - acc: 0.9651 - val_loss: nan - val_acc: 0.9624\n",
      "Epoch 48/100\n",
      "110288/110288 [==============================] - 11s 103us/step - loss: 0.1208 - acc: 0.9657 - val_loss: nan - val_acc: 0.9624\n",
      "Epoch 49/100\n",
      "110288/110288 [==============================] - 11s 103us/step - loss: 0.1185 - acc: 0.9666 - val_loss: nan - val_acc: 0.9622\n",
      "Epoch 50/100\n",
      "110288/110288 [==============================] - 11s 103us/step - loss: 0.1180 - acc: 0.9667 - val_loss: nan - val_acc: 0.9622\n",
      "Epoch 51/100\n",
      "110288/110288 [==============================] - 11s 103us/step - loss: 0.1157 - acc: 0.9674 - val_loss: nan - val_acc: 0.9633\n",
      "Epoch 52/100\n",
      "110288/110288 [==============================] - 11s 102us/step - loss: 0.1134 - acc: 0.9681 - val_loss: nan - val_acc: 0.9646\n",
      "Epoch 53/100\n",
      "110288/110288 [==============================] - 11s 102us/step - loss: 0.1122 - acc: 0.9684 - val_loss: nan - val_acc: 0.9638\n",
      "Epoch 54/100\n",
      "110288/110288 [==============================] - 11s 103us/step - loss: 0.1110 - acc: 0.9688 - val_loss: nan - val_acc: 0.9654\n",
      "Epoch 55/100\n",
      "110288/110288 [==============================] - 11s 103us/step - loss: 0.1091 - acc: 0.9692 - val_loss: nan - val_acc: 0.9661\n",
      "Epoch 56/100\n",
      "110288/110288 [==============================] - 11s 104us/step - loss: 0.1074 - acc: 0.9697 - val_loss: nan - val_acc: 0.9665\n",
      "Epoch 57/100\n",
      "110288/110288 [==============================] - 11s 102us/step - loss: 0.1065 - acc: 0.9701 - val_loss: nan - val_acc: 0.9662\n",
      "Epoch 58/100\n",
      "110288/110288 [==============================] - 11s 103us/step - loss: 0.1050 - acc: 0.9705 - val_loss: nan - val_acc: 0.9670\n",
      "Epoch 59/100\n"
     ]
    },
    {
     "name": "stdout",
     "output_type": "stream",
     "text": [
      "110288/110288 [==============================] - 11s 103us/step - loss: 0.1035 - acc: 0.9709 - val_loss: nan - val_acc: 0.9673\n",
      "Epoch 60/100\n",
      "110288/110288 [==============================] - 11s 102us/step - loss: 0.1023 - acc: 0.9713 - val_loss: nan - val_acc: 0.9681\n",
      "Epoch 61/100\n",
      "110288/110288 [==============================] - 11s 103us/step - loss: 0.1008 - acc: 0.9716 - val_loss: nan - val_acc: 0.9671\n",
      "Epoch 62/100\n",
      "110288/110288 [==============================] - 11s 102us/step - loss: 0.1005 - acc: 0.9717 - val_loss: nan - val_acc: 0.9680\n",
      "Epoch 63/100\n",
      "110288/110288 [==============================] - 11s 103us/step - loss: 0.0982 - acc: 0.9724 - val_loss: nan - val_acc: 0.9686\n",
      "Epoch 64/100\n",
      "110288/110288 [==============================] - 11s 102us/step - loss: 0.0967 - acc: 0.9728 - val_loss: nan - val_acc: 0.9683\n",
      "Epoch 65/100\n",
      "110288/110288 [==============================] - 11s 103us/step - loss: 0.0965 - acc: 0.9729 - val_loss: nan - val_acc: 0.9693\n",
      "Epoch 66/100\n",
      "110288/110288 [==============================] - 11s 103us/step - loss: 0.0954 - acc: 0.9732 - val_loss: nan - val_acc: 0.9688\n",
      "Epoch 67/100\n",
      "110288/110288 [==============================] - 11s 103us/step - loss: 0.0957 - acc: 0.9731 - val_loss: nan - val_acc: 0.9696\n",
      "Epoch 68/100\n",
      "110288/110288 [==============================] - 11s 104us/step - loss: 0.0929 - acc: 0.9739 - val_loss: nan - val_acc: 0.9694\n",
      "Epoch 69/100\n",
      "110288/110288 [==============================] - 11s 103us/step - loss: 0.0925 - acc: 0.9740 - val_loss: nan - val_acc: 0.9696\n",
      "Epoch 70/100\n",
      "110288/110288 [==============================] - 11s 103us/step - loss: 0.0911 - acc: 0.9744 - val_loss: nan - val_acc: 0.9699\n",
      "Epoch 71/100\n",
      "110288/110288 [==============================] - 11s 103us/step - loss: 0.0906 - acc: 0.9746 - val_loss: nan - val_acc: 0.9701\n",
      "Epoch 72/100\n",
      "110288/110288 [==============================] - 11s 102us/step - loss: 0.0901 - acc: 0.9746 - val_loss: nan - val_acc: 0.9708\n",
      "Epoch 73/100\n",
      "110288/110288 [==============================] - 11s 104us/step - loss: 0.0890 - acc: 0.9749 - val_loss: nan - val_acc: 0.9707\n",
      "Epoch 74/100\n",
      "110288/110288 [==============================] - 11s 104us/step - loss: 0.0876 - acc: 0.9753 - val_loss: nan - val_acc: 0.9705\n",
      "Epoch 75/100\n",
      "110288/110288 [==============================] - 11s 103us/step - loss: 0.0872 - acc: 0.9753 - val_loss: nan - val_acc: 0.9716\n",
      "Epoch 76/100\n",
      "110288/110288 [==============================] - 11s 102us/step - loss: 0.0862 - acc: 0.9758 - val_loss: nan - val_acc: 0.9716\n",
      "Epoch 77/100\n",
      "110288/110288 [==============================] - 11s 103us/step - loss: 0.0856 - acc: 0.9760 - val_loss: nan - val_acc: 0.9718\n",
      "Epoch 78/100\n",
      "110288/110288 [==============================] - 11s 103us/step - loss: 0.0839 - acc: 0.9764 - val_loss: nan - val_acc: 0.9720\n",
      "Epoch 79/100\n",
      "110288/110288 [==============================] - 11s 103us/step - loss: 0.0841 - acc: 0.9763 - val_loss: nan - val_acc: 0.9716\n",
      "Epoch 80/100\n",
      "110288/110288 [==============================] - 11s 103us/step - loss: 0.0826 - acc: 0.9768 - val_loss: nan - val_acc: 0.9719\n",
      "Epoch 81/100\n",
      "110288/110288 [==============================] - 11s 103us/step - loss: 0.0822 - acc: 0.9769 - val_loss: nan - val_acc: 0.9721\n",
      "Epoch 82/100\n",
      "110288/110288 [==============================] - 11s 103us/step - loss: 0.0818 - acc: 0.9769 - val_loss: nan - val_acc: 0.9726\n",
      "Epoch 83/100\n",
      "110288/110288 [==============================] - 11s 103us/step - loss: 0.0807 - acc: 0.9772 - val_loss: nan - val_acc: 0.9726\n",
      "Epoch 84/100\n",
      "110288/110288 [==============================] - 11s 103us/step - loss: 0.0805 - acc: 0.9773 - val_loss: nan - val_acc: 0.9726\n",
      "Epoch 85/100\n",
      "110288/110288 [==============================] - 11s 103us/step - loss: 0.0797 - acc: 0.9774 - val_loss: nan - val_acc: 0.9729\n",
      "Epoch 86/100\n",
      "110288/110288 [==============================] - 11s 104us/step - loss: 0.0790 - acc: 0.9778 - val_loss: nan - val_acc: 0.9729\n",
      "Epoch 87/100\n",
      "110288/110288 [==============================] - 11s 103us/step - loss: 0.0785 - acc: 0.9779 - val_loss: nan - val_acc: 0.9729\n",
      "Epoch 88/100\n",
      "110288/110288 [==============================] - 11s 102us/step - loss: 0.0773 - acc: 0.9782 - val_loss: nan - val_acc: 0.9727\n",
      "Epoch 89/100\n",
      "110288/110288 [==============================] - 11s 102us/step - loss: 0.0769 - acc: 0.9784 - val_loss: nan - val_acc: 0.9731\n",
      "Epoch 90/100\n",
      "110288/110288 [==============================] - 11s 103us/step - loss: 0.0776 - acc: 0.9780 - val_loss: nan - val_acc: 0.9727\n",
      "Epoch 91/100\n",
      "110288/110288 [==============================] - 11s 102us/step - loss: 0.0761 - acc: 0.9785 - val_loss: nan - val_acc: 0.9739\n",
      "Epoch 92/100\n",
      "110288/110288 [==============================] - 11s 102us/step - loss: 0.0750 - acc: 0.9788 - val_loss: nan - val_acc: 0.9743\n",
      "Epoch 93/100\n",
      "110288/110288 [==============================] - 11s 103us/step - loss: 0.0749 - acc: 0.9789 - val_loss: nan - val_acc: 0.9734\n",
      "Epoch 94/100\n",
      "110288/110288 [==============================] - 11s 102us/step - loss: 0.0745 - acc: 0.9789 - val_loss: nan - val_acc: 0.9734\n",
      "Epoch 95/100\n",
      "110288/110288 [==============================] - 11s 103us/step - loss: 0.0742 - acc: 0.9790 - val_loss: nan - val_acc: 0.9740\n",
      "Epoch 96/100\n",
      "110288/110288 [==============================] - 11s 103us/step - loss: 0.0724 - acc: 0.9795 - val_loss: nan - val_acc: 0.9738\n",
      "Epoch 97/100\n",
      "110288/110288 [==============================] - 11s 103us/step - loss: 0.0723 - acc: 0.9795 - val_loss: nan - val_acc: 0.9746\n",
      "Epoch 98/100\n",
      "110288/110288 [==============================] - 11s 103us/step - loss: 0.0719 - acc: 0.9796 - val_loss: nan - val_acc: 0.9743\n",
      "Epoch 99/100\n",
      "110288/110288 [==============================] - 11s 103us/step - loss: 0.0714 - acc: 0.9798 - val_loss: nan - val_acc: 0.9745\n",
      "Epoch 100/100\n",
      "110288/110288 [==============================] - 11s 102us/step - loss: 0.0713 - acc: 0.9798 - val_loss: nan - val_acc: 0.9744\n",
      "Sample 1:\n",
      "il a vu un vieux camion jaune <PAD> <PAD> <PAD> <PAD> <PAD> <PAD> <PAD> <PAD> <PAD> <PAD> <PAD> <PAD> <PAD> <PAD>\n",
      "Il a vu un vieux camion jaune\n",
      "Sample 2:\n",
      "new jersey est parfois calme pendant l' automne et il est neigeux en avril <PAD> <PAD> <PAD> <PAD> <PAD> <PAD> <PAD>\n",
      "new jersey est parfois calme pendant l' automne et il est neigeux en avril <PAD> <PAD> <PAD> <PAD> <PAD> <PAD> <PAD>\n"
     ]
    }
   ],
   "source": [
    "def final_predictions(x, y, x_tk, y_tk):\n",
    "    \"\"\"\n",
    "    Gets predictions using the final model\n",
    "    :param x: Preprocessed English data\n",
    "    :param y: Preprocessed French data\n",
    "    :param x_tk: English tokenizer\n",
    "    :param y_tk: French tokenizer\n",
    "    \"\"\"\n",
    "    # TODO: Train neural network using model_final\n",
    "    max_english_sequence_length = x.shape[1]\n",
    "    max_french_sequence_length = y.shape[1]\n",
    "    english_vocab_size = len(x_tk.word_index)\n",
    "    french_vocab_size = len(y_tk.word_index)\n",
    "\n",
    "    # Pad the input\n",
    "    x = pad(x, max_french_sequence_length)\n",
    "\n",
    "    # Train\n",
    "    model = model_final(\n",
    "        x.shape,\n",
    "        max_french_sequence_length,\n",
    "        english_vocab_size,\n",
    "        french_vocab_size)\n",
    "\n",
    "    model.fit(x, y, batch_size=1024, epochs=100, validation_split=0.2)\n",
    "\n",
    "    \n",
    "    ## DON'T EDIT ANYTHING BELOW THIS LINE\n",
    "    y_id_to_word = {value: key for key, value in y_tk.word_index.items()}\n",
    "    y_id_to_word[0] = '<PAD>'\n",
    "\n",
    "    sentence = 'he saw a old yellow truck'\n",
    "    sentence = [x_tk.word_index[word] for word in sentence.split()]\n",
    "    sentence = pad_sequences([sentence], maxlen=x.shape[-1], padding='post')\n",
    "    sentences = np.array([sentence[0], x[0]])\n",
    "    predictions = model.predict(sentences, len(sentences))\n",
    "\n",
    "    print('Sample 1:')\n",
    "    print(' '.join([y_id_to_word[np.argmax(x)] for x in predictions[0]]))\n",
    "    print('Il a vu un vieux camion jaune')\n",
    "    print('Sample 2:')\n",
    "    print(' '.join([y_id_to_word[np.argmax(x)] for x in predictions[1]]))\n",
    "    print(' '.join([y_id_to_word[np.max(x)] for x in y[0]]))\n",
    "\n",
    "\n",
    "final_predictions(preproc_english_sentences, preproc_french_sentences, english_tokenizer, french_tokenizer)"
   ]
  },
  {
   "cell_type": "markdown",
   "metadata": {},
   "source": [
    "## Submission\n",
    "When you're ready to submit, complete the following steps:\n",
    "1. Review the [rubric](https://review.udacity.com/#!/rubrics/1004/view) to ensure your submission meets all requirements to pass\n",
    "2. Generate an HTML version of this notebook\n",
    "\n",
    "  - Run the next cell to attempt automatic generation (this is the recommended method in Workspaces)\n",
    "  - Navigate to **FILE -> Download as -> HTML (.html)**\n",
    "  - Manually generate a copy using `nbconvert` from your shell terminal\n",
    "```\n",
    "$ pip install nbconvert\n",
    "$ python -m nbconvert machine_translation.ipynb\n",
    "```\n",
    "  \n",
    "3. Submit the project\n",
    "\n",
    "  - If you are in a Workspace, simply click the \"Submit Project\" button (bottom towards the right)\n",
    "  \n",
    "  - Otherwise, add the following files into a zip archive and submit them \n",
    "  - `helper.py`\n",
    "  - `machine_translation.ipynb`\n",
    "  - `machine_translation.html`\n",
    "    - You can export the notebook by navigating to **File -> Download as -> HTML (.html)**."
   ]
  },
  {
   "cell_type": "markdown",
   "metadata": {},
   "source": [
    "### Generate the html\n",
    "\n",
    "**Save your notebook before running the next cell to generate the HTML output.** Then submit your project."
   ]
  },
  {
   "cell_type": "code",
   "execution_count": 26,
   "metadata": {},
   "outputs": [
    {
     "data": {
      "text/plain": [
       "['[NbConvertApp] Converting notebook embedding-keras.ipynb to html',\n",
       " '[NbConvertApp] Writing 260214 bytes to embedding-keras.html',\n",
       " '[NbConvertApp] Converting notebook imdb_bidirectional_lstm.ipynb to html',\n",
       " '[NbConvertApp] Writing 262186 bytes to imdb_bidirectional_lstm.html',\n",
       " '[NbConvertApp] Converting notebook keras_preprocessing.ipynb to html',\n",
       " '[NbConvertApp] Writing 260335 bytes to keras_preprocessing.html',\n",
       " '[NbConvertApp] Converting notebook machine_translation.ipynb to html',\n",
       " '[NbConvertApp] Writing 357308 bytes to machine_translation.html',\n",
       " '[NbConvertApp] Converting notebook machine_translation-practice2.ipynb to html',\n",
       " '[NbConvertApp] Writing 593012 bytes to machine_translation-practice2.html',\n",
       " '[NbConvertApp] Converting notebook machine_translation-practice.ipynb to html',\n",
       " '[NbConvertApp] Writing 360506 bytes to machine_translation-practice.html']"
      ]
     },
     "execution_count": 26,
     "metadata": {},
     "output_type": "execute_result"
    }
   ],
   "source": [
    "# Save before you run this cell!\n",
    "!!jupyter nbconvert *.ipynb"
   ]
  },
  {
   "cell_type": "markdown",
   "metadata": {},
   "source": [
    "## Optional Enhancements\n",
    "\n",
    "This project focuses on learning various network architectures for machine translation, but we don't evaluate the models according to best practices by splitting the data into separate test & training sets -- so the model accuracy is overstated. Use the [`sklearn.model_selection.train_test_split()`](http://scikit-learn.org/stable/modules/generated/sklearn.model_selection.train_test_split.html) function to create separate training & test datasets, then retrain each of the models using only the training set and evaluate the prediction accuracy using the hold out test set. Does the \"best\" model change?"
   ]
  }
 ],
 "metadata": {
  "kernelspec": {
   "display_name": "Python 3",
   "language": "python",
   "name": "python3"
  },
  "language_info": {
   "codemirror_mode": {
    "name": "ipython",
    "version": 3
   },
   "file_extension": ".py",
   "mimetype": "text/x-python",
   "name": "python",
   "nbconvert_exporter": "python",
   "pygments_lexer": "ipython3",
   "version": "3.6.3"
  }
 },
 "nbformat": 4,
 "nbformat_minor": 1
}
